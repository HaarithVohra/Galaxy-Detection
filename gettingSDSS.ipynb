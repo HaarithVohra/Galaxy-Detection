{
 "cells": [
  {
   "cell_type": "code",
   "execution_count": 1,
   "metadata": {},
   "outputs": [],
   "source": [
    "#Download Galaxy zoo tables and SDSS spec objects and cross-match\n",
    "from astroquery.sdss import SDSS\n",
    "from astropy import coordinates as coords\n",
    "from astropy.io import fits\n",
    "import numpy as np\n",
    "from PIL import Image\n",
    "import matplotlib.patches as patches\n",
    "import matplotlib.pyplot as plt\n",
    "from astropy.table import Table,vstack,Column,unique\n",
    "import copy\n",
    "import os.path"
   ]
  },
  {
   "cell_type": "code",
   "execution_count": 2,
   "metadata": {},
   "outputs": [
    {
     "name": "stdout",
     "output_type": "stream",
     "text": [
      "total galaxies = Column1\n",
      "-------\n",
      " 667944\n"
     ]
    }
   ],
   "source": [
    "# grabbing all galaxies from zooSPec (SDSS)\n",
    "xid = SDSS.query_sql('select count(*) from zooSPec')\n",
    "print('total galaxies =',xid.field('Column1')) #hay 667944 galaxias\n",
    "ngal=xid\n",
    "# selecting galaxies with certain requirements\n",
    "xid = SDSS.query_sql('select objid,p_el,p_cw,p_acw,p_edge,p_dk,p_mg,p_cs from zooSpec where p_el < 0.5 and objid>0')\n",
    "ngal1=len(xid)"
   ]
  },
  {
   "cell_type": "code",
   "execution_count": 3,
   "metadata": {},
   "outputs": [],
   "source": [
    "xid2 = SDSS.query_sql('select objid,p_el,p_cw,p_acw,p_edge,p_dk,p_mg,p_cs from zooSpec where p_el >= 0.5 and objid>0')"
   ]
  },
  {
   "cell_type": "code",
   "execution_count": 4,
   "metadata": {},
   "outputs": [],
   "source": [
    "ngal2=len(xid2)"
   ]
  },
  {
   "cell_type": "code",
   "execution_count": 5,
   "metadata": {},
   "outputs": [
    {
     "data": {
      "text/plain": [
       "393140"
      ]
     },
     "execution_count": 5,
     "metadata": {},
     "output_type": "execute_result"
    }
   ],
   "source": [
    "ngal2"
   ]
  },
  {
   "cell_type": "code",
   "execution_count": 6,
   "metadata": {},
   "outputs": [
    {
     "name": "stdout",
     "output_type": "stream",
     "text": [
      "Total number of galaxies that we have\n",
      "ngal1 ngal2 ntot 271376 393140 664516\n"
     ]
    }
   ],
   "source": [
    "print(\"Total number of galaxies that we have\")\n",
    "print('ngal1 ngal2 ntot',ngal1,ngal2,ngal1+ngal2)"
   ]
  },
  {
   "cell_type": "code",
   "execution_count": 7,
   "metadata": {},
   "outputs": [
    {
     "name": "stderr",
     "output_type": "stream",
     "text": [
      "WARNING: AstropyDeprecationWarning: zoospecnew.data already exists. Automatically overwriting ASCII files is deprecated. Use the argument 'overwrite=True' in the future. [astropy.io.ascii.ui]\n"
     ]
    },
    {
     "name": "stdout",
     "output_type": "stream",
     "text": [
      "xid3 nrows= 664516\n"
     ]
    }
   ],
   "source": [
    "# Stack ngall and ngal2 together\n",
    "xid3=vstack([xid,xid2])\n",
    "xid3.write('zoospecnew.data',format='ascii')\n",
    "print('xid3 nrows=',len(xid3))"
   ]
  },
  {
   "cell_type": "code",
   "execution_count": 8,
   "metadata": {},
   "outputs": [],
   "source": [
    "xid = Table.read('zoospecnew.data',format='ascii')\n",
    "xid.sort(['objid'])"
   ]
  },
  {
   "cell_type": "code",
   "execution_count": 9,
   "metadata": {},
   "outputs": [
    {
     "name": "stdout",
     "output_type": "stream",
     "text": [
      "niter=2214 tot=664200\n",
      "i=0 niter=2214 len(xid3)=300 ngal=664516\n",
      "i=50 niter=2214 len(xid3)=15224 ngal=664516\n",
      "i=100 niter=2214 len(xid3)=30187 ngal=664516\n",
      "i=150 niter=2214 len(xid3)=45141 ngal=664516\n",
      "i=200 niter=2214 len(xid3)=60056 ngal=664516\n",
      "i=250 niter=2214 len(xid3)=75002 ngal=664516\n",
      "i=300 niter=2214 len(xid3)=89962 ngal=664516\n",
      "i=350 niter=2214 len(xid3)=104948 ngal=664516\n",
      "i=400 niter=2214 len(xid3)=119933 ngal=664516\n",
      "i=450 niter=2214 len(xid3)=134921 ngal=664516\n",
      "i=500 niter=2214 len(xid3)=149909 ngal=664516\n",
      "i=550 niter=2214 len(xid3)=164898 ngal=664516\n",
      "i=600 niter=2214 len(xid3)=179886 ngal=664516\n",
      "i=650 niter=2214 len(xid3)=194878 ngal=664516\n",
      "i=700 niter=2214 len(xid3)=209863 ngal=664516\n",
      "i=750 niter=2214 len(xid3)=224850 ngal=664516\n",
      "i=800 niter=2214 len(xid3)=239835 ngal=664516\n",
      "i=850 niter=2214 len(xid3)=254823 ngal=664516\n",
      "i=900 niter=2214 len(xid3)=269798 ngal=664516\n",
      "i=950 niter=2214 len(xid3)=284783 ngal=664516\n",
      "i=1000 niter=2214 len(xid3)=299765 ngal=664516\n",
      "i=1050 niter=2214 len(xid3)=314744 ngal=664516\n",
      "i=1100 niter=2214 len(xid3)=329727 ngal=664516\n",
      "i=1150 niter=2214 len(xid3)=344711 ngal=664516\n",
      "i=1200 niter=2214 len(xid3)=359700 ngal=664516\n",
      "i=1250 niter=2214 len(xid3)=374688 ngal=664516\n",
      "i=1300 niter=2214 len(xid3)=389650 ngal=664516\n",
      "i=1350 niter=2214 len(xid3)=404625 ngal=664516\n",
      "i=1400 niter=2214 len(xid3)=419605 ngal=664516\n",
      "i=1450 niter=2214 len(xid3)=434577 ngal=664516\n",
      "i=1500 niter=2214 len(xid3)=449564 ngal=664516\n",
      "i=1550 niter=2214 len(xid3)=464547 ngal=664516\n",
      "i=1600 niter=2214 len(xid3)=479528 ngal=664516\n",
      "i=1650 niter=2214 len(xid3)=494505 ngal=664516\n",
      "i=1700 niter=2214 len(xid3)=509490 ngal=664516\n",
      "i=1750 niter=2214 len(xid3)=524468 ngal=664516\n",
      "i=1800 niter=2214 len(xid3)=539427 ngal=664516\n",
      "i=1850 niter=2214 len(xid3)=554410 ngal=664516\n",
      "i=1900 niter=2214 len(xid3)=569393 ngal=664516\n",
      "i=1950 niter=2214 len(xid3)=584377 ngal=664516\n",
      "i=2000 niter=2214 len(xid3)=599362 ngal=664516\n",
      "i=2050 niter=2214 len(xid3)=614345 ngal=664516\n",
      "i=2100 niter=2214 len(xid3)=629331 ngal=664516\n",
      "i=2150 niter=2214 len(xid3)=644317 ngal=664516\n",
      "i=2200 niter=2214 len(xid3)=659302 ngal=664516\n",
      "663196\n"
     ]
    }
   ],
   "source": [
    "ngal=len(xid)\n",
    "nbuf=300\n",
    "niter=int(ngal/nbuf)-1\n",
    "print('niter=%d tot=%d'%(niter,niter*nbuf))\n",
    "for i in range(niter):\n",
    "    objid=xid['objid'][i*nbuf:((i+1)*nbuf)]\n",
    "    p_el=xid['p_el'][i*nbuf:((i+1)*nbuf)]\n",
    "    p_cw=xid['p_cw'][i*nbuf:((i+1)*nbuf)]\n",
    "    p_acw=xid['p_acw'][i*nbuf:((i+1)*nbuf)]\n",
    "    p_edge=xid['p_edge'][i*nbuf:((i+1)*nbuf)]\n",
    "    p_dk=xid['p_dk'][i*nbuf:((i+1)*nbuf)]\n",
    "    p_mg=xid['p_mg'][i*nbuf:((i+1)*nbuf)]\n",
    "    p_cs=xid['p_cs'][i*nbuf:((i+1)*nbuf)]\n",
    "    #print(len(objid))\n",
    "    for k in range(nbuf):\n",
    "        if k==0:\n",
    "            stobj='''%s'''%objid[0]\n",
    "        if k>0:\n",
    "            stobj=stobj + ',''%s'''%objid[k]\n",
    "    xid2 = SDSS.query_sql('select objid,run,rerun,camcol,field,rowc,colc,petrorad_r,rowc_g,rowc_i,colc_g,colc_i from Galaxy where objid in (%s) order by objid asc'%(stobj))\n",
    "    nres=len(xid2)\n",
    "    \n",
    "    c1=Column(name='p_el',data=np.zeros(nres,dtype=np.float32))\n",
    "    c2=Column(name='p_cw',data=np.zeros(nres,dtype=np.float32))\n",
    "    c3=Column(name='p_acw',data=np.zeros(nres,dtype=np.float32))\n",
    "    c4=Column(name='p_edge',data=np.zeros(nres,dtype=np.float32))\n",
    "    c5=Column(name='p_dk',data=np.zeros(nres,dtype=np.float32))\n",
    "    c6=Column(name='p_mg',data=np.zeros(nres,dtype=np.float32))\n",
    "    c7=Column(name='p_cs',data=np.zeros(nres,dtype=np.float32))                \n",
    "    xid2.add_columns([c1,c2,c3,c4,c5,c6,c7])\n",
    "    \n",
    "    #if nres<nbuf:\n",
    "    #    print('no galactic elements i=%d nres=%d nbuf=%d\\n'%(i,nres,nbuf))\n",
    "\n",
    "    i1=0\n",
    "    i2=0\n",
    "    for k in range(nres):\n",
    "        objref=xid2['objid'][i2]\n",
    "        oid=objid[i1]\n",
    "        if (oid==objref):\n",
    "            xid2['p_el'][i2]=p_el[i1]\n",
    "            xid2['p_cw'][i2]=p_cw[i1]\n",
    "            xid2['p_acw'][i2]=p_acw[i1]\n",
    "            xid2['p_edge'][i2]=p_edge[i1]\n",
    "            xid2['p_dk'][i2]=p_dk[i1]\n",
    "            xid2['p_mg'][i2]=p_mg[i1]\n",
    "            xid2['p_cs'][i2]=p_cs[i1]\n",
    "            i1=i1+1\n",
    "            i2=i2+1\n",
    "        if (oid!=objref):\n",
    "            #print('prev line %d %d %d\\n'%(i2-1,objid[i1-1],xid2['objid'][i2-1]))\n",
    "            #print('No galaxy in i=%d id=%d p_el=%f'%(i2,objid[i1],p_el[i1]))\n",
    "            #print('next line %d %d\\n'%(i2+1,objid[i1+1]))\n",
    "            i1=i1+1\n",
    "    #print(xid2)\n",
    "            \n",
    "    if i==0:\n",
    "        xid3=copy.deepcopy(xid2)\n",
    "    if i>0:\n",
    "        xid4=vstack([xid3,xid2])\n",
    "        xid3=copy.deepcopy(xid4)\n",
    "    if i%50==0:\n",
    "        print('i=%d niter=%d len(xid3)=%d ngal=%d'%(i,niter,len(xid3),ngal))\n",
    "\n",
    "\n",
    "print(len(xid3))\n",
    "xid3.write('zoospecnewall.data',format='ascii',overwrite=True)"
   ]
  },
  {
   "cell_type": "code",
   "execution_count": 10,
   "metadata": {},
   "outputs": [],
   "source": [
    "# xid3.show_in_notebook()"
   ]
  },
  {
   "cell_type": "code",
   "execution_count": 11,
   "metadata": {},
   "outputs": [
    {
     "name": "stdout",
     "output_type": "stream",
     "text": [
      "uniq images =229627\n"
     ]
    }
   ],
   "source": [
    "\n",
    "#READ FULL CATALOG - CREATE IMAGE LIST TO DOWNLOAD\n",
    "xid = Table.read('zoospecnewall.data',format='ascii')\n",
    "ngal=len(xid)\n",
    "col=Column(name='imagename',data=[\"                  \" for x in range(ngal)])                \n",
    "xid.add_column(col)\n",
    "for i in range(ngal):\n",
    "    v1=xid['run'][i]\n",
    "    v2=xid['rerun'][i]\n",
    "    v3=xid['camcol'][i]\n",
    "    v4=xid['field'][i]\n",
    "    ss='%d_%d_%d_%d'%(v1,v2,v3,v4)\n",
    "    xid['imagename'][i] =ss\n",
    "\n",
    "xuniq=unique(xid,keys=['imagename'])\n",
    "nuniq=len(xuniq)\n",
    "print('uniq images =%d'%nuniq)\n",
    "xid.write('zoospecnewall2.data',format='ascii')\n",
    "xuniq.write('unique.data',format='ascii')"
   ]
  },
  {
   "cell_type": "code",
   "execution_count": null,
   "metadata": {},
   "outputs": [],
   "source": []
  }
 ],
 "metadata": {
  "kernelspec": {
   "display_name": "Python 3",
   "language": "python",
   "name": "python3"
  },
  "language_info": {
   "codemirror_mode": {
    "name": "ipython",
    "version": 3
   },
   "file_extension": ".py",
   "mimetype": "text/x-python",
   "name": "python",
   "nbconvert_exporter": "python",
   "pygments_lexer": "ipython3",
   "version": "3.6.8"
  }
 },
 "nbformat": 4,
 "nbformat_minor": 2
}
