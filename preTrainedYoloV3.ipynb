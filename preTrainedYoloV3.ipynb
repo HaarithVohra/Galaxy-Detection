{
 "cells": [
  {
   "cell_type": "code",
   "execution_count": 1,
   "metadata": {},
   "outputs": [],
   "source": [
    "import numpy as np\n",
    "import sys\n",
    "from PIL import Image, ImageEnhance\n",
    "import matplotlib.patches as patches\n",
    "import matplotlib.pyplot as plt \n",
    "import time"
   ]
  },
  {
   "cell_type": "code",
   "execution_count": null,
   "metadata": {},
   "outputs": [],
   "source": [
    "from darknet import *"
   ]
  },
  {
   "cell_type": "code",
   "execution_count": null,
   "metadata": {},
   "outputs": [],
   "source": [
    "\n",
    "datacfg = 'cfg/sdss.data'\n",
    "cfgfile = 'cfg/sdss.cfg'\n",
    "\n",
    "weightfile = 'sdss.weights' \n",
    "filename = 'galaxies.jpg' ##try with galaxies2.jpg and galaxies3.jpg\n",
    "                          ##The three images were downloaded from google images\n",
    "\n",
    "thresh = 0.1  #detection probability threshold\n",
    "hier_thresh = 0.5\n",
    "\n",
    "net = load_net(cfgfile, weightfile, 0)\n",
    "meta = load_meta(datacfg)\n",
    "outputsA = detect(net, meta, filename,thresh=thresh)\n",
    "print outputsA"
   ]
  },
  {
   "cell_type": "code",
   "execution_count": null,
   "metadata": {},
   "outputs": [],
   "source": [
    "centers = []\n",
    "outputs = []\n",
    "for output in outputsA:\n",
    "    check= True\n",
    "    center_output = np.array([output[2][0],output[2][1],output[2][2],output[2][3]])\n",
    "##Yolo3 tends to detect galaxies more than once and in different sized detection boxes\n",
    "\n",
    "    for center in centers:\n",
    "        if np.linalg.norm(center_output - center)<15:\n",
    "            check = False\n",
    "    if check:\n",
    "        centers.append(center_output)\n",
    "        outputs.append(output)\n",
    "\n",
    "        \n",
    "print '%d galaxies detected'%len(outputs)\n",
    "    \n",
    "asd=len(outputs)"
   ]
  },
  {
   "cell_type": "code",
   "execution_count": null,
   "metadata": {},
   "outputs": [],
   "source": [
    "\n",
    "#plot image and detections\n",
    "img = Image.open(filename)\n",
    "contrast = ImageEnhance.Contrast(img)\n",
    "img2 = contrast.enhance(1.5) # just for visualzation \n",
    "fig,ax = plt.subplots(figsize=(30,22))\n",
    "plt.axis('off')\n",
    "plt.tight_layout(pad=0)\n",
    "plt.imshow(img2)\n",
    "ax.set_aspect('equal')\n",
    "for output in outputs:\n",
    "    \n",
    "        cx=output[2][0]\n",
    "        cy=output[2][1]\n",
    "        w=output[2][2]\n",
    "        h=output[2][3]\n",
    "        \n",
    "        r=cx+w/2\n",
    "        l=cx-w/2\n",
    "        t=cy-h/2\n",
    "        b=cy+h/2\n",
    "        rect = patches.Rectangle((l-4,t-3),r-l+8,b-t+4,linewidth=1,edgecolor='b',facecolor='none')      \n",
    "        ax.add_patch(rect)\n",
    "        ax.annotate(output[0],((l+r)/2-30,t-5),color='w',fontsize=14)\n",
    "plt.subplots_adjust(left=0, bottom=0, right=1, top=1, wspace=0, hspace=0) \n",
    "#plt.savefig('../writable/%s_thresh_%4.2f_weights_%s_detections_%4d.jpg'%(filename[3:-4],thresh,weightfile[14:-8],asd),dpi=180)\n",
    "plt.savefig('../galaxias_yolo3.jpg',dpi=180)\n",
    "plt.show()"
   ]
  }
 ],
 "metadata": {
  "kernelspec": {
   "display_name": "Python 3",
   "language": "python",
   "name": "python3"
  },
  "language_info": {
   "codemirror_mode": {
    "name": "ipython",
    "version": 3
   },
   "file_extension": ".py",
   "mimetype": "text/x-python",
   "name": "python",
   "nbconvert_exporter": "python",
   "pygments_lexer": "ipython3",
   "version": "3.6.8"
  }
 },
 "nbformat": 4,
 "nbformat_minor": 2
}
